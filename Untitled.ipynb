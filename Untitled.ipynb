{
 "cells": [
  {
   "cell_type": "code",
   "execution_count": 4,
   "id": "d91ea636-28d9-4941-aca8-7c4778024fa1",
   "metadata": {
    "scrolled": true
   },
   "outputs": [
    {
     "name": "stdout",
     "output_type": "stream",
     "text": [
      "Requirement already satisfied: pandas in /opt/anaconda3/lib/python3.12/site-packages (2.2.2)\n",
      "Requirement already satisfied: numpy>=1.26.0 in /opt/anaconda3/lib/python3.12/site-packages (from pandas) (1.26.4)\n",
      "Requirement already satisfied: python-dateutil>=2.8.2 in /opt/anaconda3/lib/python3.12/site-packages (from pandas) (2.9.0.post0)\n",
      "Requirement already satisfied: pytz>=2020.1 in /opt/anaconda3/lib/python3.12/site-packages (from pandas) (2024.1)\n",
      "Requirement already satisfied: tzdata>=2022.7 in /opt/anaconda3/lib/python3.12/site-packages (from pandas) (2023.3)\n",
      "Requirement already satisfied: six>=1.5 in /opt/anaconda3/lib/python3.12/site-packages (from python-dateutil>=2.8.2->pandas) (1.16.0)\n",
      "Note: you may need to restart the kernel to use updated packages.\n"
     ]
    }
   ],
   "source": [
    "pip install pandas"
   ]
  },
  {
   "cell_type": "code",
   "execution_count": 12,
   "id": "8d07ec71-f13f-4b7d-8d26-58db24c4922c",
   "metadata": {},
   "outputs": [
    {
     "name": "stdout",
     "output_type": "stream",
     "text": [
      "  show_id     type                  title         director  \\\n",
      "0      s1    Movie   Dick Johnson Is Dead  Kirsten Johnson   \n",
      "1      s2  TV Show          Blood & Water              NaN   \n",
      "2      s3  TV Show              Ganglands  Julien Leclercq   \n",
      "3      s4  TV Show  Jailbirds New Orleans              NaN   \n",
      "4      s5  TV Show           Kota Factory              NaN   \n",
      "\n",
      "                                                cast        country  \\\n",
      "0                                                NaN  United States   \n",
      "1  Ama Qamata, Khosi Ngema, Gail Mabalane, Thaban...   South Africa   \n",
      "2  Sami Bouajila, Tracy Gotoas, Samuel Jouy, Nabi...            NaN   \n",
      "3                                                NaN            NaN   \n",
      "4  Mayur More, Jitendra Kumar, Ranjan Raj, Alam K...          India   \n",
      "\n",
      "           date_added  release_year rating   duration  \\\n",
      "0  September 25, 2021          2020  PG-13     90 min   \n",
      "1  September 24, 2021          2021  TV-MA  2 Seasons   \n",
      "2  September 24, 2021          2021  TV-MA   1 Season   \n",
      "3  September 24, 2021          2021  TV-MA   1 Season   \n",
      "4  September 24, 2021          2021  TV-MA  2 Seasons   \n",
      "\n",
      "                                           listed_in  \\\n",
      "0                                      Documentaries   \n",
      "1    International TV Shows, TV Dramas, TV Mysteries   \n",
      "2  Crime TV Shows, International TV Shows, TV Act...   \n",
      "3                             Docuseries, Reality TV   \n",
      "4  International TV Shows, Romantic TV Shows, TV ...   \n",
      "\n",
      "                                         description  \n",
      "0  As her father nears the end of his life, filmm...  \n",
      "1  After crossing paths at a party, a Cape Town t...  \n",
      "2  To protect his family from a powerful drug lor...  \n",
      "3  Feuds, flirtations and toilet talk go down amo...  \n",
      "4  In a city of coaching centers known to train I...  \n"
     ]
    }
   ],
   "source": [
    "import pandas as pd\n",
    "\n",
    "# File path \n",
    "file_path = \"/Users/Maksim/Downloads/netflix_titles.csv\"\n",
    "\n",
    "# Load the dataset\n",
    "df = pd.read_csv(file_path)\n",
    "\n",
    "print(df.head())\n"
   ]
  },
  {
   "cell_type": "code",
   "execution_count": 14,
   "id": "04ba9436-fa22-4adc-9707-2cc85f57a82e",
   "metadata": {},
   "outputs": [
    {
     "name": "stdout",
     "output_type": "stream",
     "text": [
      "<class 'pandas.core.frame.DataFrame'>\n",
      "RangeIndex: 8807 entries, 0 to 8806\n",
      "Data columns (total 12 columns):\n",
      " #   Column        Non-Null Count  Dtype \n",
      "---  ------        --------------  ----- \n",
      " 0   show_id       8807 non-null   object\n",
      " 1   type          8807 non-null   object\n",
      " 2   title         8807 non-null   object\n",
      " 3   director      6173 non-null   object\n",
      " 4   cast          7982 non-null   object\n",
      " 5   country       7976 non-null   object\n",
      " 6   date_added    8797 non-null   object\n",
      " 7   release_year  8807 non-null   int64 \n",
      " 8   rating        8803 non-null   object\n",
      " 9   duration      8804 non-null   object\n",
      " 10  listed_in     8807 non-null   object\n",
      " 11  description   8807 non-null   object\n",
      "dtypes: int64(1), object(11)\n",
      "memory usage: 825.8+ KB\n",
      "None\n",
      "show_id            0\n",
      "type               0\n",
      "title              0\n",
      "director        2634\n",
      "cast             825\n",
      "country          831\n",
      "date_added        10\n",
      "release_year       0\n",
      "rating             4\n",
      "duration           3\n",
      "listed_in          0\n",
      "description        0\n",
      "dtype: int64\n"
     ]
    }
   ],
   "source": [
    "# Dataset information \n",
    "print(df.info())\n",
    "\n",
    "# Checking missing values\n",
    "print(df.isnull().sum())"
   ]
  },
  {
   "cell_type": "code",
   "execution_count": 16,
   "id": "29b40e28-4b9c-4e48-84ba-38ae1c5a2711",
   "metadata": {},
   "outputs": [
    {
     "name": "stdout",
     "output_type": "stream",
     "text": [
      "Amount of data: 8807 raws, 12 columns.\n"
     ]
    }
   ],
   "source": [
    "print(f\"Amount of data: {df.shape[0]} raws, {df.shape[1]} columns.\")"
   ]
  },
  {
   "cell_type": "code",
   "execution_count": 18,
   "id": "8a890f9a-c358-4a93-b74f-4019a6f80166",
   "metadata": {},
   "outputs": [
    {
     "name": "stdout",
     "output_type": "stream",
     "text": [
      "Coverage period: 1925–2021 years.\n"
     ]
    }
   ],
   "source": [
    "min_year = df['release_year'].min()\n",
    "max_year = df['release_year'].max()\n",
    "print(f\"Coverage period: {min_year}–{max_year} years.\")"
   ]
  },
  {
   "cell_type": "code",
   "execution_count": 20,
   "id": "de686f77-e17b-4bf6-80a3-f13ada8cdc03",
   "metadata": {},
   "outputs": [
    {
     "name": "stdout",
     "output_type": "stream",
     "text": [
      "director      2634\n",
      "cast           825\n",
      "country        831\n",
      "date_added      10\n",
      "rating           4\n",
      "duration         3\n",
      "dtype: int64\n"
     ]
    }
   ],
   "source": [
    "# Counting missing values in each column\n",
    "missing_values = df.isnull().sum()\n",
    "\n",
    "# Output columns with gaps\n",
    "print(missing_values[missing_values > 0])"
   ]
  },
  {
   "cell_type": "code",
   "execution_count": 22,
   "id": "46a67341-8384-48a0-8217-1dba240930d2",
   "metadata": {},
   "outputs": [
    {
     "name": "stdout",
     "output_type": "stream",
     "text": [
      "director      29.908028\n",
      "cast           9.367549\n",
      "country        9.435676\n",
      "date_added     0.113546\n",
      "rating         0.045418\n",
      "duration       0.034064\n",
      "dtype: float64\n"
     ]
    }
   ],
   "source": [
    "# Missing data\n",
    "missing_percentage = (missing_values / len(df)) * 100\n",
    "\n",
    "print(missing_percentage[missing_percentage > 0])"
   ]
  },
  {
   "cell_type": "code",
   "execution_count": 24,
   "id": "826267d8-1e0f-46cd-86d6-0ff2ca25c199",
   "metadata": {},
   "outputs": [
    {
     "name": "stdout",
     "output_type": "stream",
     "text": [
      "show_id         0\n",
      "type            0\n",
      "title           0\n",
      "director        0\n",
      "cast            0\n",
      "country         0\n",
      "date_added      0\n",
      "release_year    0\n",
      "rating          0\n",
      "duration        0\n",
      "listed_in       0\n",
      "description     0\n",
      "dtype: int64\n"
     ]
    }
   ],
   "source": [
    "# Filling gaps with ‘Unknown’ value\n",
    "df['director'] = df['director'].fillna(\"Unknown\")\n",
    "df['cast'] = df['cast'].fillna(\"Unknown\")\n",
    "df['country'] = df['country'].fillna(\"Unknown\")\n",
    "\n",
    "# Removing strings with skips in ‘date_added’ and ‘duration’\n",
    "df = df.dropna(subset=['date_added', 'duration'])\n",
    "\n",
    "# Filling with modal value for ‘rating’\n",
    "mode_rating = df['rating'].mode()[0]\n",
    "df['rating'] = df['rating'].fillna(mode_rating)\n",
    "\n",
    "print(df.isnull().sum())\n"
   ]
  },
  {
   "cell_type": "code",
   "execution_count": 32,
   "id": "af2a905d-45d0-4f6e-9f4d-aaec85277e13",
   "metadata": {},
   "outputs": [],
   "source": [
    "from collections import Counter  \n",
    "import pandas as pd\n",
    "\n",
    "# Creating a table with genre frequencies\n",
    "genre_list = df['listed_in'].str.split(', ').sum()  # Devide genres\n",
    "genre_counts = Counter(genre_list)  # Подсчет жанров\n",
    "genre_df = pd.DataFrame(genre_counts.items(), columns=['Genre', 'Count']).sort_values(by='Count', ascending=False)\n",
    "\n",
    "# Exporting data to CSV\n",
    "genre_df.to_csv(\"genre_analysis.csv\", index=False)"
   ]
  },
  {
   "cell_type": "code",
   "execution_count": 36,
   "id": "ca477926-fa24-406a-9a35-8c9db09562ff",
   "metadata": {},
   "outputs": [],
   "source": [
    "genre_df.to_csv(\"/Users/Maksim/Desktop/cw2/genre_analysis.csv\", index=False)"
   ]
  },
  {
   "cell_type": "code",
   "execution_count": 38,
   "id": "cdf1ea9e-b914-40a2-b4c9-014e0b5e5e8b",
   "metadata": {},
   "outputs": [],
   "source": [
    "# Counting the amount of content by year\n",
    "release_year_counts = df['release_year'].value_counts().sort_index()\n",
    "\n",
    "# Conversion to DataFrame\n",
    "release_year_df = pd.DataFrame({\n",
    "    'Year': release_year_counts.index,\n",
    "    'Count': release_year_counts.values\n",
    "})\n",
    "\n",
    "release_year_df.to_csv(\"/Users/Maksim/Desktop/cw2/release_year_analysis.csv\", index=False)"
   ]
  },
  {
   "cell_type": "code",
   "execution_count": 40,
   "id": "7259b681-de85-4485-a1bf-1cdd9581805b",
   "metadata": {},
   "outputs": [],
   "source": [
    "# Counting quantities by ratings\n",
    "rating_counts = df['rating'].value_counts()\n",
    "\n",
    "# Conversion to DataFrame\n",
    "rating_df = pd.DataFrame({\n",
    "    'Rating': rating_counts.index,\n",
    "    'Count': rating_counts.values\n",
    "})\n",
    "\n",
    "rating_df.to_csv(\"/Users/Maksim/Desktop/cw2/rating_analysis.csv\", index=False)"
   ]
  },
  {
   "cell_type": "code",
   "execution_count": 42,
   "id": "efff30d8-26e6-47d9-8792-bfc7d56c4dae",
   "metadata": {},
   "outputs": [],
   "source": [
    "# Checking values in ‘duration’ (for films and TV series)\n",
    "df['duration'] = df['duration'].str.replace(' min', '').str.replace(' Season', '')\n",
    "df['duration'] = pd.to_numeric(df['duration'], errors='coerce')\n",
    "\n",
    "# Creating a DataFrame with duration\n",
    "duration_df = df[['duration']].dropna()\n",
    "\n",
    "duration_df.to_csv(\"/Users/Maksim/Desktop/cw2/duration_analysis.csv\", index=False)\n"
   ]
  },
  {
   "cell_type": "code",
   "execution_count": 46,
   "id": "decc9c41-c872-4e85-8343-bb92009fd784",
   "metadata": {},
   "outputs": [],
   "source": [
    "from collections import Counter\n",
    "\n",
    "# Dividing genres and counting their number\n",
    "genre_list = df['listed_in'].str.split(', ').sum()\n",
    "genre_counts = Counter(genre_list)\n",
    "\n",
    "# Converison to DataFrame \n",
    "genre_df = pd.DataFrame(genre_counts.items(), columns=['Genre', 'Count']).sort_values(by='Count', ascending=False)\n",
    "\n",
    "genre_df.to_csv(\"/Users/Maksim/Desktop/cw2/genre_analysis.csv\", index=False)\n"
   ]
  },
  {
   "cell_type": "code",
   "execution_count": 48,
   "id": "062002e0-ccf2-432c-b6e0-6a1dbf5671f3",
   "metadata": {},
   "outputs": [],
   "source": [
    "rating_counts = df['rating'].value_counts().reset_index()\n",
    "rating_counts.columns = ['Rating', 'Count']\n",
    "rating_counts.to_csv(\"/Users/Maksim/Desktop/cw2/rating_analysis.csv\", index=False)\n"
   ]
  },
  {
   "cell_type": "code",
   "execution_count": 50,
   "id": "594c55a1-a06d-42a4-a475-3eb570652d15",
   "metadata": {},
   "outputs": [
    {
     "name": "stdout",
     "output_type": "stream",
     "text": [
      "type\n",
      "Movie      6128\n",
      "TV Show    2666\n",
      "Name: count, dtype: int64\n"
     ]
    }
   ],
   "source": [
    "# Counting the number of films and TV series\n",
    "type_counts = df['type'].value_counts()\n",
    "print(type_counts)"
   ]
  },
  {
   "cell_type": "code",
   "execution_count": 54,
   "id": "722bb4c6-6f92-416f-8662-1fa9b768967a",
   "metadata": {},
   "outputs": [
    {
     "data": {
      "image/png": "[encoded data removed]",
      "text/plain": [
       "<Figure size 800x600 with 1 Axes>"
      ]
     },
     "metadata": {},
     "output_type": "display_data"
    }
   ],
   "source": [
    "import pandas as pd\n",
    "import matplotlib.pyplot as plt\n",
    "\n",
    "# Prepare data\n",
    "data = {\n",
    "    'Type': ['Movie', 'TV Show'],\n",
    "    'Count': [6128, 2666]  \n",
    "}\n",
    "\n",
    "df = pd.DataFrame(data)\n",
    "\n",
    "# Creating a pie chart\n",
    "plt.figure(figsize=(8, 6))\n",
    "plt.pie(df['Count'], labels=df['Type'], autopct='%1.1f%%', startangle=140, colors=['#66c2a5', '#fc8d62'])\n",
    "plt.title('Ratio of movies to series on Netflix')\n",
    "plt.show()\n"
   ]
  },
  {
   "cell_type": "code",
   "execution_count": 58,
   "id": "60f12e68-7975-48fb-be6c-09b75029c372",
   "metadata": {},
   "outputs": [
    {
     "name": "stdout",
     "output_type": "stream",
     "text": [
      "Файл создан в папке cw2!\n"
     ]
    }
   ],
   "source": [
    "data = {\n",
    "    'Region': ['UCAN', 'EMEA', 'LATAM', 'APAC'],\n",
    "    'Subscribers': [84000000, 96130000, 49180000, 52600000],\n",
    "    'GrowthRate': [10, 16, 0, 19]\n",
    "}\n",
    "\n",
    "df = pd.DataFrame(data)\n",
    "\n",
    "file_path = \"/Users/Maksim/Desktop/cw2/Netflix_Subscribers.csv\"\n",
    "\n",
    "df.to_csv(file_path, index=False)\n",
    "\n",
    "print(\"Файл создан в папке cw2!\")\n"
   ]
  },
  {
   "cell_type": "code",
   "execution_count": null,
   "id": "82a053b0-8663-4490-a34d-1c0b8f808924",
   "metadata": {},
   "outputs": [],
   "source": []
  }
 ],
 "metadata": {
  "kernelspec": {
   "display_name": "Python 3 (ipykernel)",
   "language": "python",
   "name": "python3"
  },
  "language_info": {
   "codemirror_mode": {
    "name": "ipython",
    "version": 3
   },
   "file_extension": ".py",
   "mimetype": "text/x-python",
   "name": "python",
   "nbconvert_exporter": "python",
   "pygments_lexer": "ipython3",
   "version": "3.12.4"
  }
 },
 "nbformat": 4,
 "nbformat_minor": 5
}
